{
  "nbformat": 4,
  "nbformat_minor": 0,
  "metadata": {
    "colab": {
      "name": "Kompala_Neeharika_Assignment1",
      "provenance": [],
      "collapsed_sections": []
    },
    "kernelspec": {
      "name": "python3",
      "display_name": "Python 3"
    }
  },
  "cells": [
    {
      "cell_type": "code",
      "metadata": {
        "id": "d1DNWB11MVZl",
        "colab_type": "code",
        "colab": {}
      },
      "source": [
        "import pandas as pd\n",
        "import numpy as np\n",
        "import matplotlib.pyplot as plt"
      ],
      "execution_count": 0,
      "outputs": []
    },
    {
      "cell_type": "code",
      "metadata": {
        "id": "reXMsE0HMhra",
        "colab_type": "code",
        "colab": {}
      },
      "source": [
        "unames = ['user_id', 'gender', 'age', 'occupation', 'zip']\n",
        "users = pd.read_table('users.dat', sep='::', header=None, names=unames, engine='python')\n",
        "\n",
        "rnames = ['user_id', 'movie_id', 'rating', 'timestamp']\n",
        "ratings = pd.read_table('ratings.dat', sep='::', header=None, names=rnames, engine='python')\n",
        "\n",
        "mnames = ['movie_id', 'title', 'genres']\n",
        "movies = pd.read_table('movies.dat', sep='::', header=None, names=mnames, engine='python')"
      ],
      "execution_count": 0,
      "outputs": []
    },
    {
      "cell_type": "code",
      "metadata": {
        "id": "4GRQhpgWMjtc",
        "colab_type": "code",
        "outputId": "759f8de4-8761-4e57-9116-876f6c70a4fb",
        "colab": {
          "base_uri": "https://localhost:8080/",
          "height": 204
        }
      },
      "source": [
        "users[:5]"
      ],
      "execution_count": 3,
      "outputs": [
        {
          "output_type": "execute_result",
          "data": {
            "text/html": [
              "<div>\n",
              "<style scoped>\n",
              "    .dataframe tbody tr th:only-of-type {\n",
              "        vertical-align: middle;\n",
              "    }\n",
              "\n",
              "    .dataframe tbody tr th {\n",
              "        vertical-align: top;\n",
              "    }\n",
              "\n",
              "    .dataframe thead th {\n",
              "        text-align: right;\n",
              "    }\n",
              "</style>\n",
              "<table border=\"1\" class=\"dataframe\">\n",
              "  <thead>\n",
              "    <tr style=\"text-align: right;\">\n",
              "      <th></th>\n",
              "      <th>user_id</th>\n",
              "      <th>gender</th>\n",
              "      <th>age</th>\n",
              "      <th>occupation</th>\n",
              "      <th>zip</th>\n",
              "    </tr>\n",
              "  </thead>\n",
              "  <tbody>\n",
              "    <tr>\n",
              "      <th>0</th>\n",
              "      <td>1</td>\n",
              "      <td>F</td>\n",
              "      <td>1</td>\n",
              "      <td>10</td>\n",
              "      <td>48067</td>\n",
              "    </tr>\n",
              "    <tr>\n",
              "      <th>1</th>\n",
              "      <td>2</td>\n",
              "      <td>M</td>\n",
              "      <td>56</td>\n",
              "      <td>16</td>\n",
              "      <td>70072</td>\n",
              "    </tr>\n",
              "    <tr>\n",
              "      <th>2</th>\n",
              "      <td>3</td>\n",
              "      <td>M</td>\n",
              "      <td>25</td>\n",
              "      <td>15</td>\n",
              "      <td>55117</td>\n",
              "    </tr>\n",
              "    <tr>\n",
              "      <th>3</th>\n",
              "      <td>4</td>\n",
              "      <td>M</td>\n",
              "      <td>45</td>\n",
              "      <td>7</td>\n",
              "      <td>02460</td>\n",
              "    </tr>\n",
              "    <tr>\n",
              "      <th>4</th>\n",
              "      <td>5</td>\n",
              "      <td>M</td>\n",
              "      <td>25</td>\n",
              "      <td>20</td>\n",
              "      <td>55455</td>\n",
              "    </tr>\n",
              "  </tbody>\n",
              "</table>\n",
              "</div>"
            ],
            "text/plain": [
              "   user_id gender  age  occupation    zip\n",
              "0        1      F    1          10  48067\n",
              "1        2      M   56          16  70072\n",
              "2        3      M   25          15  55117\n",
              "3        4      M   45           7  02460\n",
              "4        5      M   25          20  55455"
            ]
          },
          "metadata": {
            "tags": []
          },
          "execution_count": 3
        }
      ]
    },
    {
      "cell_type": "code",
      "metadata": {
        "id": "U9VP3HPzMm--",
        "colab_type": "code",
        "outputId": "a4875e44-5b7f-4cff-cc7d-a8b3f2ea3ce0",
        "colab": {
          "base_uri": "https://localhost:8080/",
          "height": 204
        }
      },
      "source": [
        "ratings[:5]"
      ],
      "execution_count": 4,
      "outputs": [
        {
          "output_type": "execute_result",
          "data": {
            "text/html": [
              "<div>\n",
              "<style scoped>\n",
              "    .dataframe tbody tr th:only-of-type {\n",
              "        vertical-align: middle;\n",
              "    }\n",
              "\n",
              "    .dataframe tbody tr th {\n",
              "        vertical-align: top;\n",
              "    }\n",
              "\n",
              "    .dataframe thead th {\n",
              "        text-align: right;\n",
              "    }\n",
              "</style>\n",
              "<table border=\"1\" class=\"dataframe\">\n",
              "  <thead>\n",
              "    <tr style=\"text-align: right;\">\n",
              "      <th></th>\n",
              "      <th>user_id</th>\n",
              "      <th>movie_id</th>\n",
              "      <th>rating</th>\n",
              "      <th>timestamp</th>\n",
              "    </tr>\n",
              "  </thead>\n",
              "  <tbody>\n",
              "    <tr>\n",
              "      <th>0</th>\n",
              "      <td>1</td>\n",
              "      <td>1193</td>\n",
              "      <td>5</td>\n",
              "      <td>978300760</td>\n",
              "    </tr>\n",
              "    <tr>\n",
              "      <th>1</th>\n",
              "      <td>1</td>\n",
              "      <td>661</td>\n",
              "      <td>3</td>\n",
              "      <td>978302109</td>\n",
              "    </tr>\n",
              "    <tr>\n",
              "      <th>2</th>\n",
              "      <td>1</td>\n",
              "      <td>914</td>\n",
              "      <td>3</td>\n",
              "      <td>978301968</td>\n",
              "    </tr>\n",
              "    <tr>\n",
              "      <th>3</th>\n",
              "      <td>1</td>\n",
              "      <td>3408</td>\n",
              "      <td>4</td>\n",
              "      <td>978300275</td>\n",
              "    </tr>\n",
              "    <tr>\n",
              "      <th>4</th>\n",
              "      <td>1</td>\n",
              "      <td>2355</td>\n",
              "      <td>5</td>\n",
              "      <td>978824291</td>\n",
              "    </tr>\n",
              "  </tbody>\n",
              "</table>\n",
              "</div>"
            ],
            "text/plain": [
              "   user_id  movie_id  rating  timestamp\n",
              "0        1      1193       5  978300760\n",
              "1        1       661       3  978302109\n",
              "2        1       914       3  978301968\n",
              "3        1      3408       4  978300275\n",
              "4        1      2355       5  978824291"
            ]
          },
          "metadata": {
            "tags": []
          },
          "execution_count": 4
        }
      ]
    },
    {
      "cell_type": "code",
      "metadata": {
        "id": "5RUTjFTCMpd0",
        "colab_type": "code",
        "outputId": "e7d36775-697a-4cec-e1e0-721fc91c7cb5",
        "colab": {
          "base_uri": "https://localhost:8080/",
          "height": 204
        }
      },
      "source": [
        "movies[:5]"
      ],
      "execution_count": 5,
      "outputs": [
        {
          "output_type": "execute_result",
          "data": {
            "text/html": [
              "<div>\n",
              "<style scoped>\n",
              "    .dataframe tbody tr th:only-of-type {\n",
              "        vertical-align: middle;\n",
              "    }\n",
              "\n",
              "    .dataframe tbody tr th {\n",
              "        vertical-align: top;\n",
              "    }\n",
              "\n",
              "    .dataframe thead th {\n",
              "        text-align: right;\n",
              "    }\n",
              "</style>\n",
              "<table border=\"1\" class=\"dataframe\">\n",
              "  <thead>\n",
              "    <tr style=\"text-align: right;\">\n",
              "      <th></th>\n",
              "      <th>movie_id</th>\n",
              "      <th>title</th>\n",
              "      <th>genres</th>\n",
              "    </tr>\n",
              "  </thead>\n",
              "  <tbody>\n",
              "    <tr>\n",
              "      <th>0</th>\n",
              "      <td>1</td>\n",
              "      <td>Toy Story (1995)</td>\n",
              "      <td>Animation|Children's|Comedy</td>\n",
              "    </tr>\n",
              "    <tr>\n",
              "      <th>1</th>\n",
              "      <td>2</td>\n",
              "      <td>Jumanji (1995)</td>\n",
              "      <td>Adventure|Children's|Fantasy</td>\n",
              "    </tr>\n",
              "    <tr>\n",
              "      <th>2</th>\n",
              "      <td>3</td>\n",
              "      <td>Grumpier Old Men (1995)</td>\n",
              "      <td>Comedy|Romance</td>\n",
              "    </tr>\n",
              "    <tr>\n",
              "      <th>3</th>\n",
              "      <td>4</td>\n",
              "      <td>Waiting to Exhale (1995)</td>\n",
              "      <td>Comedy|Drama</td>\n",
              "    </tr>\n",
              "    <tr>\n",
              "      <th>4</th>\n",
              "      <td>5</td>\n",
              "      <td>Father of the Bride Part II (1995)</td>\n",
              "      <td>Comedy</td>\n",
              "    </tr>\n",
              "  </tbody>\n",
              "</table>\n",
              "</div>"
            ],
            "text/plain": [
              "   movie_id                               title                        genres\n",
              "0         1                    Toy Story (1995)   Animation|Children's|Comedy\n",
              "1         2                      Jumanji (1995)  Adventure|Children's|Fantasy\n",
              "2         3             Grumpier Old Men (1995)                Comedy|Romance\n",
              "3         4            Waiting to Exhale (1995)                  Comedy|Drama\n",
              "4         5  Father of the Bride Part II (1995)                        Comedy"
            ]
          },
          "metadata": {
            "tags": []
          },
          "execution_count": 5
        }
      ]
    },
    {
      "cell_type": "markdown",
      "metadata": {
        "id": "L2gwpv_IMwed",
        "colab_type": "text"
      },
      "source": [
        "• [10 pts] An aggregate of the movie ratings for each particular genre, e.g., Action, Adven- ture, Drama, Science Fiction, ..."
      ]
    },
    {
      "cell_type": "code",
      "metadata": {
        "id": "dIIlupMrQGrC",
        "colab_type": "code",
        "colab": {}
      },
      "source": [
        "# merging data of all the three tables\n",
        "fin_data = pd.merge(pd.merge(ratings, users), movies)"
      ],
      "execution_count": 0,
      "outputs": []
    },
    {
      "cell_type": "code",
      "metadata": {
        "id": "jdVi5af4fmM0",
        "colab_type": "code",
        "colab": {
          "base_uri": "https://localhost:8080/",
          "height": 204
        },
        "outputId": "83b20930-37ef-4a1f-a396-093875b9b4fb"
      },
      "source": [
        "# small data preprocessing step -> checking for any null data\n",
        "fin_data.isnull().any()"
      ],
      "execution_count": 7,
      "outputs": [
        {
          "output_type": "execute_result",
          "data": {
            "text/plain": [
              "user_id       False\n",
              "movie_id      False\n",
              "rating        False\n",
              "timestamp     False\n",
              "gender        False\n",
              "age           False\n",
              "occupation    False\n",
              "zip           False\n",
              "title         False\n",
              "genres        False\n",
              "dtype: bool"
            ]
          },
          "metadata": {
            "tags": []
          },
          "execution_count": 7
        }
      ]
    },
    {
      "cell_type": "code",
      "metadata": {
        "id": "9nif2_u-hqTL",
        "colab_type": "code",
        "colab": {}
      },
      "source": [
        "# This function is t0 extract all genre data\n",
        "def count_genre(dataset, col, listkey):\n",
        "    count = dict()\n",
        "    for s in listkey: count[s] = 0\n",
        "    # split data in genre list\n",
        "    for list_key in dataset[col].str.split('|'):\n",
        "        if type(list_key) == float and pd.isnull(list_key): continue\n",
        "        for s in list_key: \n",
        "            if pd.notnull(s): count[s] += 1\n",
        "    #list to keep the values\n",
        "    genre_occurences = []\n",
        "    #appending the values\n",
        "    for k,v in count.items():\n",
        "        genre_occurences.append([k,v])\n",
        "    genre_occurences.sort(key = lambda x:x[1], reverse = True)\n",
        "    return genre_occurences, count"
      ],
      "execution_count": 0,
      "outputs": []
    },
    {
      "cell_type": "code",
      "metadata": {
        "id": "SawFkFRlfo9q",
        "colab_type": "code",
        "colab": {
          "base_uri": "https://localhost:8080/",
          "height": 323
        },
        "outputId": "8c5d3cce-258c-4654-f0f3-4aec0515d3b7"
      },
      "source": [
        "genre_labels = set()\n",
        "for s in fin_data['genres'].str.split('|').values:\n",
        "    genre_labels = genre_labels.union(set(s))\n",
        "\n",
        "#store the unique values account\n",
        "genre_occurences, count = count_genre(fin_data, 'genres', genre_labels)\n",
        "genre_occurences"
      ],
      "execution_count": 9,
      "outputs": [
        {
          "output_type": "execute_result",
          "data": {
            "text/plain": [
              "[['Comedy', 356580],\n",
              " ['Drama', 354529],\n",
              " ['Action', 257457],\n",
              " ['Thriller', 189680],\n",
              " ['Sci-Fi', 157294],\n",
              " ['Romance', 147523],\n",
              " ['Adventure', 133953],\n",
              " ['Crime', 79541],\n",
              " ['Horror', 76386],\n",
              " [\"Children's\", 72186],\n",
              " ['War', 68527],\n",
              " ['Animation', 43293],\n",
              " ['Musical', 41533],\n",
              " ['Mystery', 40178],\n",
              " ['Fantasy', 36301],\n",
              " ['Western', 20683],\n",
              " ['Film-Noir', 18261],\n",
              " ['Documentary', 7910]]"
            ]
          },
          "metadata": {
            "tags": []
          },
          "execution_count": 9
        }
      ]
    },
    {
      "cell_type": "markdown",
      "metadata": {
        "id": "9v77OzYJdABn",
        "colab_type": "text"
      },
      "source": [
        "#[10 pts] An aggregate of the movie ratings for each particular genre, e.g., Action, Adven- ture, Drama, Science Fiction, ..."
      ]
    },
    {
      "cell_type": "code",
      "metadata": {
        "id": "kE5blxPEibUi",
        "colab_type": "code",
        "colab": {
          "base_uri": "https://localhost:8080/",
          "height": 142
        },
        "outputId": "f32169d3-57fa-46f8-9567-ff0f31ffb57e"
      },
      "source": [
        "data = pd.read_table('movies.dat', sep='::', header=None, names=mnames, engine='python')\n",
        "#merging just rating and movies data\n",
        "movie_data_ratings_data=data.merge(ratings,on = 'movie_id',how = 'inner')\n",
        "movie_data_ratings_data.head(3)"
      ],
      "execution_count": 10,
      "outputs": [
        {
          "output_type": "execute_result",
          "data": {
            "text/html": [
              "<div>\n",
              "<style scoped>\n",
              "    .dataframe tbody tr th:only-of-type {\n",
              "        vertical-align: middle;\n",
              "    }\n",
              "\n",
              "    .dataframe tbody tr th {\n",
              "        vertical-align: top;\n",
              "    }\n",
              "\n",
              "    .dataframe thead th {\n",
              "        text-align: right;\n",
              "    }\n",
              "</style>\n",
              "<table border=\"1\" class=\"dataframe\">\n",
              "  <thead>\n",
              "    <tr style=\"text-align: right;\">\n",
              "      <th></th>\n",
              "      <th>movie_id</th>\n",
              "      <th>title</th>\n",
              "      <th>genres</th>\n",
              "      <th>user_id</th>\n",
              "      <th>rating</th>\n",
              "      <th>timestamp</th>\n",
              "    </tr>\n",
              "  </thead>\n",
              "  <tbody>\n",
              "    <tr>\n",
              "      <th>0</th>\n",
              "      <td>1</td>\n",
              "      <td>Toy Story (1995)</td>\n",
              "      <td>Animation|Children's|Comedy</td>\n",
              "      <td>1</td>\n",
              "      <td>5</td>\n",
              "      <td>978824268</td>\n",
              "    </tr>\n",
              "    <tr>\n",
              "      <th>1</th>\n",
              "      <td>1</td>\n",
              "      <td>Toy Story (1995)</td>\n",
              "      <td>Animation|Children's|Comedy</td>\n",
              "      <td>6</td>\n",
              "      <td>4</td>\n",
              "      <td>978237008</td>\n",
              "    </tr>\n",
              "    <tr>\n",
              "      <th>2</th>\n",
              "      <td>1</td>\n",
              "      <td>Toy Story (1995)</td>\n",
              "      <td>Animation|Children's|Comedy</td>\n",
              "      <td>8</td>\n",
              "      <td>4</td>\n",
              "      <td>978233496</td>\n",
              "    </tr>\n",
              "  </tbody>\n",
              "</table>\n",
              "</div>"
            ],
            "text/plain": [
              "   movie_id             title  ... rating  timestamp\n",
              "0         1  Toy Story (1995)  ...      5  978824268\n",
              "1         1  Toy Story (1995)  ...      4  978237008\n",
              "2         1  Toy Story (1995)  ...      4  978233496\n",
              "\n",
              "[3 rows x 6 columns]"
            ]
          },
          "metadata": {
            "tags": []
          },
          "execution_count": 10
        }
      ]
    },
    {
      "cell_type": "code",
      "metadata": {
        "id": "n34kGppsdU0A",
        "colab_type": "code",
        "colab": {
          "base_uri": "https://localhost:8080/",
          "height": 629
        },
        "outputId": "066fa98f-e5e9-48d4-fec7-877334dd418a"
      },
      "source": [
        "# iterating through all genres and calculating averages\n",
        "for i in range(0, len(genre_occurences)):\n",
        "  print(genre_occurences[i][0])\n",
        "  gen = movie_data_ratings_data['genres'].str.contains(genre_occurences[i][0])\n",
        "  new_data = pd.DataFrame(movie_data_ratings_data[gen])\n",
        "  print(new_data['rating'].mean())"
      ],
      "execution_count": 11,
      "outputs": [
        {
          "output_type": "stream",
          "text": [
            "Comedy\n",
            "3.522098827752538\n",
            "Drama\n",
            "3.766332232342065\n",
            "Action\n",
            "3.4911849357368414\n",
            "Thriller\n",
            "3.5704660480809784\n",
            "Sci-Fi\n",
            "3.466521291339784\n",
            "Romance\n",
            "3.607464598740535\n",
            "Adventure\n",
            "3.477256948332624\n",
            "Crime\n",
            "3.708678543141273\n",
            "Horror\n",
            "3.215013222318226\n",
            "Children's\n",
            "3.422034743579087\n",
            "War\n",
            "3.893326717935996\n",
            "Animation\n",
            "3.684868223500335\n",
            "Musical\n",
            "3.6655189849035708\n",
            "Mystery\n",
            "3.6681019463387923\n",
            "Fantasy\n",
            "3.447370595851354\n",
            "Western\n",
            "3.6377701493980563\n",
            "Film-Noir\n",
            "4.075187558184108\n",
            "Documentary\n",
            "3.933122629582807\n"
          ],
          "name": "stdout"
        }
      ]
    },
    {
      "cell_type": "markdown",
      "metadata": {
        "id": "BFOuFqPpdDf0",
        "colab_type": "text"
      },
      "source": [
        "# [10 pts] The top 5 highest ranked genre by women."
      ]
    },
    {
      "cell_type": "code",
      "metadata": {
        "id": "Otyl2Cs9H548",
        "colab_type": "code",
        "colab": {}
      },
      "source": [
        "# extracting just Female data and they calculating the average ratings per genre\n",
        "female_data = fin_data.loc[fin_data['gender'] == 'F']\n",
        "fem_data = {}\n",
        "for i in range(0, len(genre_occurences)):\n",
        "  #print(genre_occurences[i][0])\n",
        "  gen = female_data['genres'].str.contains(genre_occurences[i][0])\n",
        "  new_data = pd.DataFrame(female_data[gen])\n",
        "  #print(new_data['rating'].mean())\n",
        "  #new_data has the genre data and we calculated the mean of the genre\n",
        "  fem_data[genre_occurences[i][0]] = new_data['rating'].mean()"
      ],
      "execution_count": 0,
      "outputs": []
    },
    {
      "cell_type": "code",
      "metadata": {
        "id": "SQPiv2o-I_FF",
        "colab_type": "code",
        "colab": {
          "base_uri": "https://localhost:8080/",
          "height": 187
        },
        "outputId": "2efb91d7-4c34-4cfe-b091-283ac2fcac20"
      },
      "source": [
        "sorted_fem = {k: v for k, v in sorted(fem_data.items(), key=lambda item: item[1], reverse=True)}\n",
        "count = 0\n",
        "for k, v in sorted_fem.items():\n",
        "  if count < 5:\n",
        "    print(k)\n",
        "    print(v)\n",
        "    count = count + 1"
      ],
      "execution_count": 13,
      "outputs": [
        {
          "output_type": "stream",
          "text": [
            "Film-Noir\n",
            "4.018086625416468\n",
            "Documentary\n",
            "3.94639175257732\n",
            "War\n",
            "3.893138437522174\n",
            "Musical\n",
            "3.8091077378748612\n",
            "Drama\n",
            "3.7656617729463187\n"
          ],
          "name": "stdout"
        }
      ]
    },
    {
      "cell_type": "markdown",
      "metadata": {
        "id": "I300B4gJdGdx",
        "colab_type": "text"
      },
      "source": [
        "#[10 pts] The top 5 highest ranked genre by men"
      ]
    },
    {
      "cell_type": "code",
      "metadata": {
        "id": "PqQKEIhpCEXk",
        "colab_type": "code",
        "colab": {}
      },
      "source": [
        "# extracting just Male data and they calculating the average ratings per genre\n",
        "male_data = fin_data.loc[fin_data['gender'] == 'M']\n",
        "male_dict = {}\n",
        "for i in range(0, len(genre_occurences)):\n",
        "  #print(genre_occurences[i][0])\n",
        "  gen = male_data['genres'].str.contains(genre_occurences[i][0])\n",
        "  new_data = pd.DataFrame(male_data[gen])\n",
        "  #print(new_data['rating'].mean())\n",
        "  #new_data has the genre data and we calculated the mean of the genre\n",
        "  male_dict[genre_occurences[i][0]] = new_data['rating'].mean()"
      ],
      "execution_count": 0,
      "outputs": []
    },
    {
      "cell_type": "code",
      "metadata": {
        "id": "sv8h90BMKBbn",
        "colab_type": "code",
        "colab": {}
      },
      "source": [
        "sorted_male = {k: v for k, v in sorted(male_dict.items(), key=lambda item: item[1], reverse=True)}\n",
        "for k, v in sorted_fem.items():\n",
        "  if count < 5:\n",
        "    print(k)\n",
        "    print(v)\n",
        "    count = count + 1"
      ],
      "execution_count": 0,
      "outputs": []
    },
    {
      "cell_type": "markdown",
      "metadata": {
        "id": "Jhi6-57ddJmv",
        "colab_type": "text"
      },
      "source": [
        "#[20 pts] Pick a movie of your choice and provide a breakdown of the movie’s ratings by 3 age ranges (a) under 18 (b) 19 to 45 (c) Above 45."
      ]
    },
    {
      "cell_type": "code",
      "metadata": {
        "id": "g-pSWW14uUvD",
        "colab_type": "code",
        "colab": {}
      },
      "source": [
        "# Movie of choice : \"Toy Story (1995)\" extracting its record from movies table\n",
        "toy_story = movies.loc[movies['title'] == 'Toy Story (1995)']"
      ],
      "execution_count": 0,
      "outputs": []
    },
    {
      "cell_type": "code",
      "metadata": {
        "id": "iZmR-OD6dWI2",
        "colab_type": "code",
        "colab": {}
      },
      "source": [
        "user_data = pd.read_table('users.dat', sep='::', header=None, names=mnames, engine='python')\n",
        "#user_data_ratings_data= user_data.merge(ratings,on = 'user_id',how = 'inner')\n",
        "# merging user and ratings table\n",
        "user_data_ratings_data = pd.merge(left=users, right=ratings, left_on='user_id', right_on='user_id')\n",
        "#gen = movie_data_ratings_data['genres'].str.contains(genre_occurences[i][0])\n",
        "# sending the toy_story movie id to the merged table to get all user rating to that movie\n",
        "rating_gen = user_data_ratings_data.loc[user_data_ratings_data['movie_id'] == toy_story['movie_id'].values[0]]"
      ],
      "execution_count": 0,
      "outputs": []
    },
    {
      "cell_type": "code",
      "metadata": {
        "id": "2KnZtiK7xb1Q",
        "colab_type": "code",
        "colab": {}
      },
      "source": [
        "# spliting the particular movie table to three tables according to the ages category\n",
        "rating_below = rating_gen.loc[rating_gen['age'] < 19]\n",
        "rating_mid = (rating_gen.loc[rating_gen['age'] > 18]).loc[(rating_gen.loc[rating_gen['age'] > 18])['age'] < 46]\n",
        "rating_above = rating_gen.loc[rating_gen['age'] > 45]"
      ],
      "execution_count": 0,
      "outputs": []
    },
    {
      "cell_type": "code",
      "metadata": {
        "id": "ObYliFs2z6Fu",
        "colab_type": "code",
        "colab": {
          "base_uri": "https://localhost:8080/",
          "height": 136
        },
        "outputId": "66308c91-9491-4c45-a45a-3f66ad1f21ee"
      },
      "source": [
        "# checking averages of the ages data\n",
        "print('Average rating in the mentioned age groups :')\n",
        "print('Age below 18:')\n",
        "print(rating_below['rating'].mean())\n",
        "print('Age between 19 to 45:')\n",
        "print(rating_mid['rating'].mean())\n",
        "print('Age above 45:')\n",
        "print(rating_above['rating'].mean())"
      ],
      "execution_count": 19,
      "outputs": [
        {
          "output_type": "stream",
          "text": [
            "Average rating in the mentioned age groups :\n",
            "Age below 18:\n",
            "3.9982142857142855\n",
            "Age between 19 to 45:\n",
            "4.222713864306785\n",
            "Age above 45:\n",
            "4.024844720496894\n"
          ],
          "name": "stdout"
        }
      ]
    },
    {
      "cell_type": "code",
      "metadata": {
        "id": "GUy7_jB40RMU",
        "colab_type": "code",
        "colab": {
          "base_uri": "https://localhost:8080/",
          "height": 136
        },
        "outputId": "78b34d9c-52e4-4181-a686-07310e011688"
      },
      "source": [
        "# checking standard deviation of the ages data\n",
        "print('Standard deviation of the  rating in the mentioned age groups :')\n",
        "print('Age below 18:')\n",
        "print(rating_below['rating'].std())\n",
        "print('Age between 19 to 45:')\n",
        "print(rating_mid['rating'].std())\n",
        "print('Age above 45:')\n",
        "print(rating_above['rating'].std())"
      ],
      "execution_count": 20,
      "outputs": [
        {
          "output_type": "stream",
          "text": [
            "Standard deviation of the  rating in the mentioned age groups :\n",
            "Age below 18:\n",
            "0.8962236558461483\n",
            "Age between 19 to 45:\n",
            "0.8135115504952557\n",
            "Age above 45:\n",
            "0.935082286212062\n"
          ],
          "name": "stdout"
        }
      ]
    },
    {
      "cell_type": "code",
      "metadata": {
        "id": "3HIVfsDLA09R",
        "colab_type": "code",
        "colab": {
          "base_uri": "https://localhost:8080/",
          "height": 170
        },
        "outputId": "536a6941-41af-431e-ebb7-e2076e68aa2a"
      },
      "source": [
        "rating_gen.groupby('age').size()"
      ],
      "execution_count": 21,
      "outputs": [
        {
          "output_type": "execute_result",
          "data": {
            "text/plain": [
              "age\n",
              "1     112\n",
              "18    448\n",
              "25    790\n",
              "35    423\n",
              "45    143\n",
              "50    108\n",
              "56     53\n",
              "dtype: int64"
            ]
          },
          "metadata": {
            "tags": []
          },
          "execution_count": 21
        }
      ]
    },
    {
      "cell_type": "markdown",
      "metadata": {
        "id": "nO34McYzdNA2",
        "colab_type": "text"
      },
      "source": [
        "#[30 pts] A function that given a user id and movie id , returns a list of user ids for other users that rated the movie identified by the provided movie id with the same score. "
      ]
    },
    {
      "cell_type": "code",
      "metadata": {
        "id": "eDQs2bMG2ae6",
        "colab_type": "code",
        "colab": {}
      },
      "source": [
        "def other_user(user_id, movie_id):\n",
        "  # get record of the movie_id and user_id to know the rating\n",
        "  curr_user = (ratings.loc[ratings['user_id'] == user_id]).loc[(ratings.loc[ratings['user_id'] == user_id])['movie_id'] == movie_id]\n",
        "  movie_data = ratings.loc[ratings['movie_id'] == movie_id]\n",
        "  # using the rating to get all similar rating values\n",
        "  same_score = movie_data.loc[movie_data['rating'] == curr_user['rating'].values[0]]\n",
        "  unique_users = same_score['user_id'].unique()\n",
        "  return unique_users\n",
        "    "
      ],
      "execution_count": 0,
      "outputs": []
    },
    {
      "cell_type": "code",
      "metadata": {
        "id": "terUHbWm6mMC",
        "colab_type": "code",
        "colab": {
          "base_uri": "https://localhost:8080/",
          "height": 1000
        },
        "outputId": "03d2ef65-dd87-4c4a-b464-9934115705cf"
      },
      "source": [
        "user = other_user(1,1)\n",
        "print(\"The userds are :\")\n",
        "print(user)\n",
        "print('The count of users are:')\n",
        "print(len(user))"
      ],
      "execution_count": 23,
      "outputs": [
        {
          "output_type": "stream",
          "text": [
            "The userds are :\n",
            "[   1    9   10   19   34   36   38   44   49   51   56   65   75   76\n",
            "  112  119  121  132  146  148  156  157  162  169  182  184  186  195\n",
            "  198  213  220  223  231  239  246  258  272  273  284  300  301  307\n",
            "  325  333  343  346  350  369  385  389  411  413  429  434  438  451\n",
            "  456  463  474  478  479  496  523  524  528  529  531  536  541  543\n",
            "  549  550  555  563  577  583  590  605  606  610  613  623  626  634\n",
            "  635  637  641  645  646  669  676  678  690  692  707  710  714  716\n",
            "  718  722  726  729  731  733  739  749  752  753  765  776  791  801\n",
            "  802  813  817  822  839  840  858  869  877  880  885  890  891  894\n",
            "  926  929  933  934  938  946  949  951  957 1000 1004 1015 1021 1032\n",
            " 1036 1051 1054 1055 1057 1059 1061 1072 1076 1087 1107 1112 1117 1124\n",
            " 1125 1132 1141 1145 1155 1183 1202 1203 1221 1223 1224 1239 1266 1271\n",
            " 1272 1274 1280 1283 1285 1287 1294 1298 1306 1322 1325 1332 1336 1340\n",
            " 1343 1345 1350 1359 1367 1389 1391 1400 1407 1413 1421 1425 1427 1448\n",
            " 1458 1476 1481 1491 1507 1516 1532 1546 1555 1556 1568 1586 1588 1597\n",
            " 1599 1613 1628 1634 1635 1647 1657 1664 1671 1673 1675 1676 1678 1684\n",
            " 1687 1695 1697 1712 1714 1716 1727 1737 1743 1752 1765 1767 1778 1793\n",
            " 1805 1806 1820 1823 1826 1834 1835 1836 1841 1842 1850 1853 1858 1860\n",
            " 1875 1879 1880 1885 1899 1901 1904 1914 1917 1922 1926 1928 1938 1941\n",
            " 1949 1950 1951 1956 1958 1960 1962 1969 1975 1976 1983 1995 1996 1998\n",
            " 1999 2016 2020 2023 2027 2029 2035 2054 2060 2063 2068 2070 2073 2083\n",
            " 2085 2096 2098 2108 2116 2135 2142 2145 2147 2148 2153 2162 2164 2173\n",
            " 2180 2181 2214 2223 2224 2233 2255 2259 2310 2321 2374 2378 2386 2403\n",
            " 2414 2436 2448 2462 2484 2510 2516 2529 2533 2562 2574 2581 2583 2593\n",
            " 2611 2619 2624 2634 2638 2639 2641 2648 2652 2661 2664 2665 2666 2681\n",
            " 2689 2691 2692 2699 2718 2723 2724 2748 2753 2754 2756 2766 2787 2788\n",
            " 2799 2809 2817 2824 2831 2848 2853 2859 2862 2873 2885 2887 2895 2902\n",
            " 2909 2924 2931 2938 2939 2941 2966 2968 2972 2979 2989 2996 2999 3002\n",
            " 3006 3007 3018 3025 3032 3074 3077 3081 3087 3095 3125 3138 3147 3151\n",
            " 3154 3161 3163 3167 3174 3177 3185 3205 3213 3230 3254 3260 3261 3269\n",
            " 3272 3277 3285 3306 3308 3344 3346 3353 3356 3371 3378 3394 3399 3401\n",
            " 3414 3415 3433 3437 3438 3454 3458 3465 3470 3486 3499 3501 3513 3515\n",
            " 3521 3526 3527 3538 3557 3560 3562 3572 3576 3590 3592 3593 3594 3596\n",
            " 3597 3600 3601 3608 3609 3624 3652 3665 3675 3676 3681 3686 3687 3691\n",
            " 3696 3701 3705 3706 3709 3711 3713 3715 3717 3724 3726 3729 3738 3749\n",
            " 3751 3752 3755 3756 3759 3760 3768 3769 3770 3775 3777 3780 3784 3789\n",
            " 3799 3804 3808 3813 3834 3840 3845 3848 3853 3857 3862 3864 3871 3886\n",
            " 3892 3900 3904 3907 3912 3913 3930 3933 3935 3940 3943 3946 3958 3974\n",
            " 3975 3976 3996 3997 3999 4005 4016 4021 4033 4036 4041 4048 4050 4063\n",
            " 4064 4081 4086 4089 4092 4094 4096 4104 4106 4112 4118 4126 4133 4137\n",
            " 4141 4149 4153 4159 4165 4177 4197 4204 4206 4220 4224 4226 4231 4258\n",
            " 4261 4269 4271 4277 4290 4312 4315 4318 4329 4335 4344 4352 4361 4363\n",
            " 4386 4389 4408 4409 4422 4427 4436 4444 4449 4452 4456 4470 4482 4489\n",
            " 4506 4509 4510 4512 4518 4524 4543 4553 4561 4571 4572 4579 4588 4589\n",
            " 4591 4595 4598 4607 4640 4641 4655 4658 4659 4666 4671 4682 4687 4701\n",
            " 4715 4718 4725 4739 4744 4748 4750 4754 4757 4764 4776 4784 4785 4786\n",
            " 4794 4797 4808 4813 4831 4835 4847 4855 4861 4865 4876 4877 4889 4897\n",
            " 4904 4906 4908 4909 4915 4921 4922 4925 4927 4932 4942 4972 4973 4979\n",
            " 4989 4999 5015 5035 5037 5038 5046 5053 5054 5061 5065 5081 5087 5090\n",
            " 5099 5100 5106 5114 5137 5156 5163 5165 5168 5178 5180 5183 5188 5193\n",
            " 5208 5231 5232 5256 5264 5268 5270 5273 5282 5289 5291 5301 5306 5312\n",
            " 5321 5324 5343 5345 5359 5367 5371 5375 5387 5396 5404 5406 5412 5416\n",
            " 5418 5424 5427 5431 5446 5452 5453 5461 5463 5483 5497 5504 5505 5511\n",
            " 5512 5521 5523 5524 5557 5560 5565 5570 5587 5593 5600 5602 5610 5615\n",
            " 5618 5634 5643 5645 5649 5651 5661 5674 5675 5676 5678 5684 5698 5701\n",
            " 5705 5706 5707 5721 5738 5740 5742 5747 5748 5749 5751 5754 5760 5761\n",
            " 5762 5763 5788 5790 5795 5801 5809 5823 5825 5831 5833 5839 5840 5841\n",
            " 5858 5861 5862 5875 5888 5890 5903 5908 5930 5938 5954 5964 5978 5989\n",
            " 5995 5996 6010 6011 6013 6015 6022 6025]\n",
            "The count of users are:\n",
            "820\n"
          ],
          "name": "stdout"
        }
      ]
    },
    {
      "cell_type": "markdown",
      "metadata": {
        "id": "gJck3Zwu2Vkg",
        "colab_type": "text"
      },
      "source": [
        "#[20 pts] Some other statistic, figure, aggregate, or plot that you created using this dataset, along with a short description of what interesting observations you derived from it."
      ]
    },
    {
      "cell_type": "code",
      "metadata": {
        "id": "u92ROsc48xTY",
        "colab_type": "code",
        "colab": {}
      },
      "source": [
        "words = dict()\n",
        "tocc = genre_occurences[0:50]"
      ],
      "execution_count": 0,
      "outputs": []
    },
    {
      "cell_type": "code",
      "metadata": {
        "id": "cxf2Y-8S8wHi",
        "colab_type": "code",
        "colab": {
          "base_uri": "https://localhost:8080/",
          "height": 491
        },
        "outputId": "77ea03c5-2b19-4fbc-ea1b-39a6950e614b"
      },
      "source": [
        "# lets display the same result in the histogram\n",
        "fig = plt.figure(1, figsize=(18,13))\n",
        "ax2 = fig.add_subplot(2,1,2)\n",
        "y_axis = [i[1] for i in tocc]\n",
        "x_axis = [k for k,i in enumerate(tocc)]\n",
        "x_label = [i[0] for i in tocc]\n",
        "plt.xticks(rotation=85, fontsize = 15)\n",
        "plt.yticks(fontsize = 15)\n",
        "plt.xticks(x_axis, x_label)\n",
        "plt.ylabel(\"No. of occurences\", fontsize = 24, labelpad = 0)\n",
        "ax2.bar(x_axis, y_axis, align = 'center', color='r')\n",
        "plt.title(\"Popularity of Genres\",bbox={'facecolor':'k', 'pad':5},color='w',fontsize = 30)\n",
        "plt.show()"
      ],
      "execution_count": 25,
      "outputs": [
        {
          "output_type": "display_data",
          "data": {
            "image/png": "[encoded data removed]",
            "text/plain": [
              "<Figure size 1296x936 with 1 Axes>"
            ]
          },
          "metadata": {
            "tags": [],
            "needs_background": "light"
          }
        }
      ]
    },
    {
      "cell_type": "markdown",
      "metadata": {
        "id": "YbYAAljS4nc3",
        "colab_type": "text"
      },
      "source": [
        "Observing the genre distribution from the movies lens sets the most populer genres are Comedy and drama, least liked being film Noir and documentry.\n",
        "Least watched genre types could also be considered outliers."
      ]
    },
    {
      "cell_type": "code",
      "metadata": {
        "id": "BzckayLGRKaw",
        "colab_type": "code",
        "colab": {
          "base_uri": "https://localhost:8080/",
          "height": 295
        },
        "outputId": "e7395d85-c858-4132-a7fb-2cdb04f6c54c"
      },
      "source": [
        "plt.hist(ratings['rating'], bins=5, ec='black')\n",
        "plt.xlabel('Rating')\n",
        "plt.ylabel('Count')\n",
        "plt.title('Distribution of Ratings in MovieLens 100K')\n",
        "plt.show()"
      ],
      "execution_count": 26,
      "outputs": [
        {
          "output_type": "display_data",
          "data": {
            "image/png": "[encoded data removed]",
            "text/plain": [
              "<Figure size 432x288 with 1 Axes>"
            ]
          },
          "metadata": {
            "tags": [],
            "needs_background": "light"
          }
        }
      ]
    },
    {
      "cell_type": "markdown",
      "metadata": {
        "id": "4X-vWxUT3iGp",
        "colab_type": "text"
      },
      "source": [
        "Observing the Movie ratings distribution we can say that the bell curve is observed in the distribution. \n",
        "\n",
        "Most of the rating lie around 3.5"
      ]
    },
    {
      "cell_type": "code",
      "metadata": {
        "id": "pA53WlQxBYTg",
        "colab_type": "code",
        "colab": {}
      },
      "source": [
        "movie_user_data = pd.merge(left=ratings, right=movies, left_on='movie_id', right_on='movie_id')\n",
        "temp = movie_user_data['genres'].str.contains('Comedy')\n",
        "comedy_movie_user_data = pd.DataFrame(movie_user_data[temp])\n",
        "comedy_analysis = comedy_movie_user_data.groupby('title')['rating'].agg(['mean','median'])\n",
        "comedy_analysis\n",
        "temp = movie_user_data['genres'].str.contains('Drama')\n",
        "drama_movie_user_data = pd.DataFrame(movie_user_data[temp])"
      ],
      "execution_count": 0,
      "outputs": []
    },
    {
      "cell_type": "code",
      "metadata": {
        "id": "DdNGuZhNkGmj",
        "colab_type": "code",
        "colab": {}
      },
      "source": [
        "mixed = []\n",
        "gen = []\n",
        "for i in range(0, len(genre_occurences)):\n",
        "  gen = movie_data_ratings_data['genres'].str.contains(genre_occurences[i][0])\n",
        "  new_data = pd.DataFrame(movie_data_ratings_data[gen])\n",
        "  now = new_data['rating'].tolist()\n",
        "  mixed.append(now)\n"
      ],
      "execution_count": 0,
      "outputs": []
    },
    {
      "cell_type": "code",
      "metadata": {
        "id": "pSCMxxVhm0cK",
        "colab_type": "code",
        "colab": {
          "base_uri": "https://localhost:8080/",
          "height": 323
        },
        "outputId": "cf2804e4-400b-4633-f38d-598d1e252751"
      },
      "source": [
        "gen = []\n",
        "for i in range(0, len(genre_occurences)):\n",
        "  gen += [genre_occurences[i][0]] \n",
        "gen"
      ],
      "execution_count": 29,
      "outputs": [
        {
          "output_type": "execute_result",
          "data": {
            "text/plain": [
              "['Comedy',\n",
              " 'Drama',\n",
              " 'Action',\n",
              " 'Thriller',\n",
              " 'Sci-Fi',\n",
              " 'Romance',\n",
              " 'Adventure',\n",
              " 'Crime',\n",
              " 'Horror',\n",
              " \"Children's\",\n",
              " 'War',\n",
              " 'Animation',\n",
              " 'Musical',\n",
              " 'Mystery',\n",
              " 'Fantasy',\n",
              " 'Western',\n",
              " 'Film-Noir',\n",
              " 'Documentary']"
            ]
          },
          "metadata": {
            "tags": []
          },
          "execution_count": 29
        }
      ]
    },
    {
      "cell_type": "code",
      "metadata": {
        "id": "PhmAJxbdlf6i",
        "colab_type": "code",
        "colab": {
          "base_uri": "https://localhost:8080/",
          "height": 530
        },
        "outputId": "608ae439-cc20-4251-aaa8-08517e04f729"
      },
      "source": [
        "import pandas as pd\n",
        "df = pd.DataFrame(comedy_movie_user_data['rating'])\n",
        "df.plot.box(grid='True')\n",
        "df = pd.DataFrame(drama_movie_user_data['rating'])\n",
        "df.plot.box(grid='True')"
      ],
      "execution_count": 30,
      "outputs": [
        {
          "output_type": "execute_result",
          "data": {
            "text/plain": [
              "<matplotlib.axes._subplots.AxesSubplot at 0x7ff973aeac88>"
            ]
          },
          "metadata": {
            "tags": []
          },
          "execution_count": 30
        },
        {
          "output_type": "display_data",
          "data": {
            "image/png": "[encoded data removed]",
            "text/plain": [
              "<Figure size 432x288 with 1 Axes>"
            ]
          },
          "metadata": {
            "tags": [],
            "needs_background": "light"
          }
        },
        {
          "output_type": "display_data",
          "data": {
            "image/png": "[encoded data removed]",
            "text/plain": [
              "<Figure size 432x288 with 1 Axes>"
            ]
          },
          "metadata": {
            "tags": [],
            "needs_background": "light"
          }
        }
      ]
    },
    {
      "cell_type": "markdown",
      "metadata": {
        "id": "T7Jys4fF1jY6",
        "colab_type": "text"
      },
      "source": [
        "Comedy and drama being the most movies common genre the rates is observes to fall around the 3.5-3 as observed in box plot.\n",
        "As observed in question one there are few outliers such as Noir genre but the most popular genre seems to have higher rating. \n",
        "We can say that popular films are watched relatively more."
      ]
    }
  ]
}
